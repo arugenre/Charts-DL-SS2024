{
 "cells": [
  {
   "cell_type": "code",
   "execution_count": 1,
   "id": "6f2c16d3-dabc-4613-80a9-8d562b262e4a",
   "metadata": {},
   "outputs": [],
   "source": [
    "#importing the packages that are needed in order to create natural prompts\n",
    "import json\n",
    "import csv\n",
    "import pandas as pd\n",
    "import re\n",
    "from datetime import datetime \n",
    "import random\n",
    "import os\n",
    "import json"
   ]
  },
  {
   "cell_type": "code",
   "execution_count": 2,
   "id": "a21cae12-d1a3-476c-9c57-c1424b6524f3",
   "metadata": {},
   "outputs": [
    {
     "name": "stdout",
     "output_type": "stream",
     "text": [
      "Looking in indexes: https://nexus.iisys.de/repository/ki-awz-pypi-group/simple, https://pypi.org/simple\n",
      "Requirement already satisfied: transformers in /opt/conda/lib/python3.10/site-packages (4.42.3)\n",
      "Requirement already satisfied: filelock in /opt/conda/lib/python3.10/site-packages (from transformers) (3.9.0)\n",
      "Requirement already satisfied: huggingface-hub<1.0,>=0.23.2 in /opt/conda/lib/python3.10/site-packages (from transformers) (0.23.4)\n",
      "Requirement already satisfied: numpy<2.0,>=1.17 in /opt/conda/lib/python3.10/site-packages (from transformers) (1.24.4)\n",
      "Requirement already satisfied: packaging>=20.0 in /opt/conda/lib/python3.10/site-packages (from transformers) (23.1)\n",
      "Requirement already satisfied: pyyaml>=5.1 in /opt/conda/lib/python3.10/site-packages (from transformers) (6.0.1)\n",
      "Requirement already satisfied: regex!=2019.12.17 in /opt/conda/lib/python3.10/site-packages (from transformers) (2024.5.15)\n",
      "Requirement already satisfied: requests in /opt/conda/lib/python3.10/site-packages (from transformers) (2.31.0)\n",
      "Requirement already satisfied: safetensors>=0.4.1 in /opt/conda/lib/python3.10/site-packages (from transformers) (0.4.3)\n",
      "Requirement already satisfied: tokenizers<0.20,>=0.19 in /opt/conda/lib/python3.10/site-packages (from transformers) (0.19.1)\n",
      "Requirement already satisfied: tqdm>=4.27 in /opt/conda/lib/python3.10/site-packages (from transformers) (4.66.1)\n",
      "Requirement already satisfied: fsspec>=2023.5.0 in /opt/conda/lib/python3.10/site-packages (from huggingface-hub<1.0,>=0.23.2->transformers) (2023.9.0)\n",
      "Requirement already satisfied: typing-extensions>=3.7.4.3 in /opt/conda/lib/python3.10/site-packages (from huggingface-hub<1.0,>=0.23.2->transformers) (4.7.1)\n",
      "Requirement already satisfied: charset-normalizer<4,>=2 in /opt/conda/lib/python3.10/site-packages (from requests->transformers) (3.2.0)\n",
      "Requirement already satisfied: idna<4,>=2.5 in /opt/conda/lib/python3.10/site-packages (from requests->transformers) (3.4)\n",
      "Requirement already satisfied: urllib3<3,>=1.21.1 in /opt/conda/lib/python3.10/site-packages (from requests->transformers) (2.0.4)\n",
      "Requirement already satisfied: certifi>=2017.4.17 in /opt/conda/lib/python3.10/site-packages (from requests->transformers) (2023.7.22)\n",
      "Note: you may need to restart the kernel to use updated packages.\n"
     ]
    }
   ],
   "source": [
    "%pip install transformers"
   ]
  },
  {
   "cell_type": "code",
   "execution_count": 3,
   "id": "52b57729-ae6c-4fc7-9b60-852810dd3fe6",
   "metadata": {},
   "outputs": [
    {
     "name": "stdout",
     "output_type": "stream",
     "text": [
      "Looking in indexes: https://nexus.iisys.de/repository/ki-awz-pypi-group/simple, https://pypi.org/simple\n",
      "Requirement already satisfied: accelerate in /opt/conda/lib/python3.10/site-packages (0.31.0)\n",
      "Requirement already satisfied: numpy>=1.17 in /opt/conda/lib/python3.10/site-packages (from accelerate) (1.24.4)\n",
      "Requirement already satisfied: packaging>=20.0 in /opt/conda/lib/python3.10/site-packages (from accelerate) (23.1)\n",
      "Requirement already satisfied: psutil in /opt/conda/lib/python3.10/site-packages (from accelerate) (5.9.5)\n",
      "Requirement already satisfied: pyyaml in /opt/conda/lib/python3.10/site-packages (from accelerate) (6.0.1)\n",
      "Requirement already satisfied: torch>=1.10.0 in /opt/conda/lib/python3.10/site-packages (from accelerate) (2.1.0+cu118)\n",
      "Requirement already satisfied: huggingface-hub in /opt/conda/lib/python3.10/site-packages (from accelerate) (0.23.4)\n",
      "Requirement already satisfied: safetensors>=0.3.1 in /opt/conda/lib/python3.10/site-packages (from accelerate) (0.4.3)\n",
      "Requirement already satisfied: filelock in /opt/conda/lib/python3.10/site-packages (from torch>=1.10.0->accelerate) (3.9.0)\n",
      "Requirement already satisfied: typing-extensions in /opt/conda/lib/python3.10/site-packages (from torch>=1.10.0->accelerate) (4.7.1)\n",
      "Requirement already satisfied: sympy in /opt/conda/lib/python3.10/site-packages (from torch>=1.10.0->accelerate) (1.12)\n",
      "Requirement already satisfied: networkx in /opt/conda/lib/python3.10/site-packages (from torch>=1.10.0->accelerate) (3.1)\n",
      "Requirement already satisfied: jinja2 in /opt/conda/lib/python3.10/site-packages (from torch>=1.10.0->accelerate) (3.1.2)\n",
      "Requirement already satisfied: fsspec in /opt/conda/lib/python3.10/site-packages (from torch>=1.10.0->accelerate) (2023.9.0)\n",
      "Requirement already satisfied: triton==2.1.0 in /opt/conda/lib/python3.10/site-packages (from torch>=1.10.0->accelerate) (2.1.0)\n",
      "Requirement already satisfied: requests in /opt/conda/lib/python3.10/site-packages (from huggingface-hub->accelerate) (2.31.0)\n",
      "Requirement already satisfied: tqdm>=4.42.1 in /opt/conda/lib/python3.10/site-packages (from huggingface-hub->accelerate) (4.66.1)\n",
      "Requirement already satisfied: MarkupSafe>=2.0 in /opt/conda/lib/python3.10/site-packages (from jinja2->torch>=1.10.0->accelerate) (2.1.3)\n",
      "Requirement already satisfied: charset-normalizer<4,>=2 in /opt/conda/lib/python3.10/site-packages (from requests->huggingface-hub->accelerate) (3.2.0)\n",
      "Requirement already satisfied: idna<4,>=2.5 in /opt/conda/lib/python3.10/site-packages (from requests->huggingface-hub->accelerate) (3.4)\n",
      "Requirement already satisfied: urllib3<3,>=1.21.1 in /opt/conda/lib/python3.10/site-packages (from requests->huggingface-hub->accelerate) (2.0.4)\n",
      "Requirement already satisfied: certifi>=2017.4.17 in /opt/conda/lib/python3.10/site-packages (from requests->huggingface-hub->accelerate) (2023.7.22)\n",
      "Requirement already satisfied: mpmath>=0.19 in /opt/conda/lib/python3.10/site-packages (from sympy->torch>=1.10.0->accelerate) (1.3.0)\n",
      "Note: you may need to restart the kernel to use updated packages.\n"
     ]
    }
   ],
   "source": [
    "%pip install accelerate"
   ]
  },
  {
   "cell_type": "code",
   "execution_count": 4,
   "id": "13b5b70c-2beb-417a-acae-e272640aab4f",
   "metadata": {},
   "outputs": [],
   "source": [
    "import torch\n",
    "from transformers import AutoModelForCausalLM, AutoTokenizer, pipeline"
   ]
  },
  {
   "cell_type": "code",
   "execution_count": 5,
   "id": "38d5bc32-19ee-4bcb-8955-c0fc3c2a5c03",
   "metadata": {},
   "outputs": [
    {
     "name": "stderr",
     "output_type": "stream",
     "text": [
      "`flash-attention` package not found, consider installing for better performance: No module named 'flash_attn'.\n",
      "Current `flash-attention` does not support `window_size`. Either upgrade or use `attn_implementation='eager'`.\n"
     ]
    },
    {
     "data": {
      "application/vnd.jupyter.widget-view+json": {
       "model_id": "2b11f6680c0346048b23967fb30ceb28",
       "version_major": 2,
       "version_minor": 0
      },
      "text/plain": [
       "Loading checkpoint shards:   0%|          | 0/2 [00:00<?, ?it/s]"
      ]
     },
     "metadata": {},
     "output_type": "display_data"
    },
    {
     "name": "stderr",
     "output_type": "stream",
     "text": [
      "Special tokens have been added in the vocabulary, make sure the associated word embeddings are fine-tuned or trained.\n"
     ]
    }
   ],
   "source": [
    "prompts = []\n",
    "torch.random.manual_seed(0)\n",
    "\n",
    "model = AutoModelForCausalLM.from_pretrained(\n",
    "    \"microsoft/Phi-3-mini-128k-instruct\",\n",
    "    device_map=\"cuda\",\n",
    "    torch_dtype=\"auto\",\n",
    "    trust_remote_code=True,\n",
    ")\n",
    "tokenizer = AutoTokenizer.from_pretrained(\"microsoft/Phi-3-mini-128k-instruct\")"
   ]
  },
  {
   "cell_type": "code",
   "execution_count": 30,
   "id": "c9ae96b9-d2d8-43a8-9421-87e35ac96dda",
   "metadata": {},
   "outputs": [],
   "source": [
    "pipe = pipeline('text-generation', model=model, tokenizer=tokenizer,)"
   ]
  },
  {
   "cell_type": "code",
   "execution_count": 46,
   "id": "b064175f-59dc-4889-b11c-97b30f5d73aa",
   "metadata": {},
   "outputs": [],
   "source": [
    "generation_args = {\n",
    "    \"max_new_tokens\": 500,\n",
    "    \"return_full_text\": False,\n",
    "    \"temperature\": 0.5,\n",
    "    \"do_sample\": True,\n",
    "}"
   ]
  },
  {
   "cell_type": "code",
   "execution_count": 47,
   "id": "f3822ee8-ae73-4160-989b-a7ab6d1f68de",
   "metadata": {},
   "outputs": [],
   "source": [
    "def decapitalize(s):\n",
    "    if not s:\n",
    "        return s\n",
    "    return s[0].lower() + s[1:]"
   ]
  },
  {
   "cell_type": "code",
   "execution_count": 48,
   "id": "833ef06d-5d4b-4ffe-98c3-b3007a565305",
   "metadata": {},
   "outputs": [],
   "source": [
    "final_dataset = []\n",
    "\n",
    "with open(\"final.json\", \"r\") as f:\n",
    "    final_dataset = json.loads(f.read())"
   ]
  },
  {
   "cell_type": "code",
   "execution_count": 49,
   "id": "1e931763-6e36-42fb-8d53-7ca2cf6c466b",
   "metadata": {},
   "outputs": [],
   "source": [
    "import random"
   ]
  },
  {
   "cell_type": "code",
   "execution_count": 50,
   "id": "7ce0310f-6af6-4420-bdac-f9f0fcda7c1f",
   "metadata": {},
   "outputs": [],
   "source": [
    "prompt_templates_type_a = []\n",
    "with open(\"prompt_templates_type_a.json\", \"r\") as f:\n",
    "    prompt_templates_type_a = json.loads(f.read())"
   ]
  },
  {
   "cell_type": "code",
   "execution_count": 51,
   "id": "ed572f19-7bf9-4290-a19f-2b3d64f61cba",
   "metadata": {},
   "outputs": [],
   "source": [
    "prompt_templates_type_b = []\n",
    "with open(\"prompt_templates_type_b.json\", \"r\") as f:\n",
    "    prompt_templates_type_b = json.loads(f.read())"
   ]
  },
  {
   "cell_type": "code",
   "execution_count": 52,
   "id": "ace1612e-6e8a-46ab-8836-f6cb6516b128",
   "metadata": {},
   "outputs": [],
   "source": [
    "def fill_template_type_a(chart_json: dict):\n",
    "    template = random.choice(prompt_templates_type_a)\n",
    "    \n",
    "    labels_values = []\n",
    "    for label in chart_json[\"data\"]:\n",
    "        labels_values.append(f'{label[\"label\"]} ({label[\"value\"]})')\n",
    "    labels_values = \", \".join(labels_values)\n",
    "\n",
    "    return template.format(\n",
    "        chart_title=decapitalize(chart_json[\"chart_title\"]), \n",
    "        chart_type=chart_json[\"chart_type\"], \n",
    "        labels_values=labels_values\n",
    "    )"
   ]
  },
  {
   "cell_type": "code",
   "execution_count": 53,
   "id": "c110c0e2-c0aa-47c3-adca-c0756761a182",
   "metadata": {},
   "outputs": [],
   "source": [
    "def fill_template_type_b(chart_json: dict):\n",
    "    template = random.choice(prompt_templates_type_b)\n",
    "    \n",
    "    labels = []\n",
    "    values = []\n",
    "    for label in chart_json[\"data\"]:\n",
    "        labels.append(label[\"label\"])\n",
    "        values.append(str(label[\"value\"]))\n",
    "        \n",
    "    labels = \", \".join(labels)\n",
    "    values = \", \".join(values)\n",
    "\n",
    "    return template.format(\n",
    "        chart_title=decapitalize(chart_json[\"chart_title\"]), \n",
    "        chart_type=chart_json[\"chart_type\"], \n",
    "        labels=labels,\n",
    "        values=values\n",
    "    )"
   ]
  },
  {
   "cell_type": "code",
   "execution_count": 54,
   "id": "c1ad9d53-e82b-4c43-9825-3123040f9cef",
   "metadata": {},
   "outputs": [],
   "source": [
    "def fill_template(chart_json: dict):\n",
    "    fill_functions = [fill_template_type_a, fill_template_type_b]\n",
    "\n",
    "    fill_function = random.choice(fill_functions)\n",
    "    return fill_function(chart_json=chart_json)"
   ]
  },
  {
   "cell_type": "code",
   "execution_count": 96,
   "id": "14dd0d60-f823-4192-9768-7dad4a18a001",
   "metadata": {},
   "outputs": [],
   "source": [
    "messages=[]"
   ]
  },
  {
   "cell_type": "code",
   "execution_count": 97,
   "id": "a238973c-61b1-41dd-98f2-96cc6abaf86e",
   "metadata": {},
   "outputs": [],
   "source": [
    "for chart_json in final_dataset:\n",
    "    messages.append([\n",
    "        {\"role\": \"user\", \"content\": f\"Paraphrase the following prompt: '{fill_template(chart_json=chart_json)}'\"}\n",
    "    ])"
   ]
  },
  {
   "cell_type": "code",
   "execution_count": 98,
   "id": "834ec61b-f897-4419-b7b5-0da1f3ba9fa3",
   "metadata": {},
   "outputs": [
    {
     "data": {
      "text/plain": [
       "200"
      ]
     },
     "execution_count": 98,
     "metadata": {},
     "output_type": "execute_result"
    }
   ],
   "source": [
    "len(messages)"
   ]
  },
  {
   "cell_type": "code",
   "execution_count": 99,
   "id": "7a46b699-b31c-4ac9-9a1c-b43b30ec0e74",
   "metadata": {},
   "outputs": [
    {
     "data": {
      "text/plain": [
       "[[{'role': 'user',\n",
       "   'content': \"Paraphrase the following prompt: 'Please give me a line chart in ChartsJS for highest points of acrs.us stock with the labels 2015-10-30, 2016-04-29, 2016-06-24, 2016-09-20, 2016-09-22, 2016-10-10, 2016-10-18, 2016-11-01, 2016-11-09, 2016-11-16, 2017-01-11, 2017-02-15, 2017-03-20, 2017-03-22, 2017-06-09, 2017-06-23 and their respective values 14.85, 19.89, 18.98, 24.74, 25.075, 25.3, 22.8, 21.23, 22.73, 24.93, 29.24, 28.25, 28.98, 29.65, 25.52, 27.19.'\"}],\n",
       " [{'role': 'user',\n",
       "   'content': \"Paraphrase the following prompt: 'Develop a line chart in ChartsJS illustrating highest points of acrs.us stock with data points: 2015-12-28 (28.97), 2016-02-01 (22.26), 2016-03-15 (16.83), 2016-03-31 (19.24), 2016-04-12 (20.52), 2016-05-19 (20.6), 2016-10-18 (22.8), 2016-10-20 (22.4), 2016-11-17 (23.96), 2017-01-18 (28.5), 2017-01-20 (27.88), 2017-02-15 (28.25), 2017-06-07 (24.9), 2017-09-05 (26.38), 2017-10-16 (26.62), 2017-10-26 (25.29)'\"}],\n",
       " [{'role': 'user',\n",
       "   'content': \"Paraphrase the following prompt: 'Would you be able to design a line chart in ChartsJS for highest points of acrs.us stock that includes labels 2015-11-24, 2015-11-25, 2016-01-27, 2016-02-12, 2016-04-28, 2016-07-14, 2016-09-07, 2016-09-15, 2016-09-26, 2016-12-20, 2017-02-03, 2017-02-17, 2017-03-17, 2017-03-30, 2017-05-16, 2017-09-25 and values 24.48, 24.5, 22.3, 20.56, 20.4, 20.32, 22.59, 24.5, 25.02, 31.41, 26.19, 27.954, 30.06, 30.455, 26.63, 26.045?'\"}],\n",
       " [{'role': 'user',\n",
       "   'content': \"Paraphrase the following prompt: 'Could you provide a line chart for ChartJS illustrating highest points of acrs.us stock with the data 2015-10-13 (13.97), 2016-01-27 (22.3), 2016-02-01 (22.26), 2016-03-16 (16.77), 2016-05-10 (21.05), 2016-08-03 (19.3), 2016-08-17 (20.46), 2016-08-26 (21.5), 2016-10-07 (24.75), 2016-12-21 (30.74), 2016-12-30 (27.38), 2017-08-09 (27.27), 2017-08-28 (25.105), 2017-09-21 (26.05), 2017-10-03 (26.38), 2017-11-08 (23.12)?'\"}],\n",
       " [{'role': 'user',\n",
       "   'content': \"Paraphrase the following prompt: 'Is it possible for you to make a line chart in ChartJS about highest points of acrs.us stock that includes the data 2016-01-14 (21.2999), 2016-02-26 (19.0), 2016-03-18 (16.11), 2016-03-21 (16.01), 2016-05-19 (20.6), 2016-09-20 (24.74), 2016-11-23 (28.29), 2017-02-01 (26.92), 2017-02-08 (26.03), 2017-03-13 (31.57), 2017-03-21 (29.11), 2017-05-02 (28.36), 2017-06-09 (25.52), 2017-08-04 (27.32), 2017-08-18 (25.4), 2017-10-19 (27.2)?'\"}],\n",
       " [{'role': 'user',\n",
       "   'content': \"Paraphrase the following prompt: 'Can you generate a line chart using ChartJS to represent highest points of acrs.us stock with the data 2015-12-24 (29.28), 2016-01-14 (21.2999), 2016-02-02 (22.39), 2016-10-12 (25.025), 2016-11-17 (23.96), 2016-12-13 (29.12), 2016-12-20 (31.41), 2017-01-17 (28.96), 2017-01-24 (27.243), 2017-02-08 (26.03), 2017-03-02 (31.87), 2017-04-25 (30.34), 2017-05-08 (26.28), 2017-07-26 (30.08), 2017-09-19 (25.97), 2017-10-10 (28.16)?'\"}],\n",
       " [{'role': 'user',\n",
       "   'content': \"Paraphrase the following prompt: 'Create a line chart in ChartsJS for highest points of acrs.us stock using data: 2015-10-14 (14.47), 2015-11-13 (18.22), 2015-12-01 (23.6), 2015-12-28 (28.97), 2016-04-15 (20.39), 2016-06-22 (18.33), 2016-07-28 (20.74), 2016-09-07 (22.59), 2016-09-16 (25.0), 2017-01-09 (30.24), 2017-04-12 (32.0), 2017-06-26 (28.14), 2017-08-15 (27.04), 2017-08-25 (26.24), 2017-09-21 (26.05), 2017-10-27 (24.745)'\"}],\n",
       " [{'role': 'user',\n",
       "   'content': \"Paraphrase the following prompt: 'Can you create a line chart in ChartsJS for highest points of acrs.us stock incorporating labels 2015-10-21, 2015-11-02, 2016-01-05, 2016-03-11, 2016-05-05, 2016-06-10, 2016-07-28, 2016-11-29, 2016-12-05, 2016-12-27, 2017-04-04, 2017-05-23, 2017-06-02, 2017-08-01, 2017-11-01, 2017-11-03 and values 15.18, 15.15, 27.72, 17.01, 21.29, 23.19, 20.74, 30.44, 30.2, 28.385, 30.65, 24.88, 23.8825, 29.115, 25.47, 24.715?'\"}],\n",
       " [{'role': 'user',\n",
       "   'content': \"Paraphrase the following prompt: 'Could you provide a line chart in ChartsJS for highest points of acrs.us stock with labels 2015-10-22, 2015-11-03, 2015-12-09, 2016-01-08, 2016-03-30, 2016-05-13, 2016-05-24, 2016-07-06, 2016-07-29, 2017-01-30, 2017-03-01, 2017-03-24, 2017-06-29, 2017-08-11, 2017-08-21, 2017-11-07 and values 15.41, 15.29, 22.39, 24.42, 15.6, 21.41, 19.91, 19.63, 20.59, 26.92, 31.36, 30.74, 27.56, 25.36, 25.04, 24.13?'\"}],\n",
       " [{'role': 'user',\n",
       "   'content': \"Paraphrase the following prompt: 'Can you create a line chart in ChartsJS for highest points of acrs.us stock incorporating labels 2015-12-02, 2015-12-10, 2016-01-14, 2016-02-05, 2016-06-30, 2016-07-12, 2016-08-10, 2016-09-21, 2017-01-04, 2017-01-18, 2017-04-12, 2017-06-27, 2017-07-18, 2017-08-31, 2017-10-16, 2017-10-26 and values 23.42, 22.43, 21.2999, 22.87, 18.69, 20.4, 19.535, 24.79, 29.44, 28.5, 32.0, 26.97, 29.17, 25.94, 26.62, 25.29?'\"}]]"
      ]
     },
     "execution_count": 99,
     "metadata": {},
     "output_type": "execute_result"
    }
   ],
   "source": [
    "messages[:10]"
   ]
  },
  {
   "cell_type": "code",
   "execution_count": 100,
   "id": "26729075-bfec-4435-b2d0-f54a18ae07a1",
   "metadata": {},
   "outputs": [],
   "source": [
    "final_prompts = []"
   ]
  },
  {
   "cell_type": "code",
   "execution_count": 101,
   "id": "06d0c7f7-e45e-41de-bf05-bc01f8381179",
   "metadata": {},
   "outputs": [
    {
     "name": "stdout",
     "output_type": "stream",
     "text": [
      "generated 0\n",
      " Craft an XY line chart using ChartsJS that illustrates the peak values of ACRS.US stock. The chart should feature the dates: October 30, 2015; April 29, 2016; June 24, 2016; September 20, 2016; September 22, 2016; October 10, 2016; October 18, 2016; November 1, 2016; November 9, 2016; November 16, 2016; January 11, 2017; February 15, 2017; March 20, 2017; March 22, 2017; June 9, 2017; and June 23, 2017. Correspond these dates with their respective stock values: 14.85, 19.89, 18.98, 24.74, 25.075, 25.3, 22.8, 21.23, 22.73, 24.93, 29.24, 28.25, 28.98, 29.65, 25.52, and 27.19.\n",
      "generated 20\n",
      " Create a line chart using ChartsJS that illustrates the peak values of adm.us stock, based on the provided data points: June 11, 2014 (19.93), October 10, 2014 (14.75), October 16, 2014 (14.57), June 24, 2015 (27.5), August 27, 2015 (20.36), October 2, 2015 (17.16), January 28, 2016 (18.8), February 12, 2016 (14.37), March 28, 2016 (14.595), December 7, 2016 (15.72), December 12, 2016 (15.79), March 30, 2017 (17.49), April 13, 2017 (16.29), June 5, 2017 (17.15), August 8, 2017 (17.1156), October 5, 2017 (24.18), and October 20, 2017 (19.54).\n",
      "generated 40\n",
      " Create a line chart using ChartsJS, depicting the highest points of adms.us stock with the specified dates as labels: 2014-04-29, 2014-05-27, 2015-01-20, 2015-02-23, 2015-03-03, 2015-08-04, 2015-10-09, 2016-01-28, 2016-02-10, 2016-09-02, 2016-10-27, 2016-12-21, 2017-01-11, 2017-01-13, 2017-06-27, 2017-08-21, 2017-10-09, and corresponding values of 16.76, 18.6, 17.59, 17.51, 17.32, 25.84, 16.05, 18.8, 14.45, 15.1, 14.83, 16.73, 17.39, 17.3, 17.41, 14.53, 23.3.\n",
      "generated 60\n",
      " Can you create a line graph using ChartJS that illustrates the peak values of ainc.us stock based on the following data points: March 24, 2015 (120.75), April 21, 2015 (107.25), June 2, 2015 (100.85), September 30, 2015 (63.5), January 21, 2016 (42.0), January 27, 2016 (51.15), February 24, 2016 (39.9), April 19, 2016 (46.45), June 14, 2016 (55.83), June 27, 2016 (57.75), October 18, 2016 (46.43), January 17, 2017 (46.0), April 17, 2017 (59.0), June 23, 2017 (51.0), September 21, 2017 (55.72), September 29, 2017 (60.6), October 18, 2017 (66.2)?\n",
      "generated 80\n",
      " Create a line graph using ChartsJS that illustrates the peak values of ainc.us stock with the following dataset: 2014-12-24 (90.5), 2015-04-07 (114.0), 2015-06-03 (105.33), 2015-07-01 (87.27), 2015-08-20 (76.06), 2015-08-27 (72.25), 2015-09-25 (65.0), 2015-10-22 (64.39), 2015-11-09 (65.5), 2015-12-18 (56.0), 2015-12-31 (54.5), 2016-01-28 (50.99), 2016-05-17 (44.75), 2017-03-30 (60.8), 2017-05-17 (52.5), 2017-07-20 (48.65), 2017-10-03 (66.49).\n",
      "generated 100\n",
      " Can you create a line graph using ChartJS depicting the peak values of amag.us stock based on the following data points: March 13, 2006 (27.09), August 8, 2006 (33.02), November 2, 2006 (40.59), January 17, 2008 (65.66), March 19, 2010 (37.25), April 9, 2010 (34.84), May 20, 2010 (31.7), June 23, 2010 (35.15), December 16, 2011 (19.0), June 29, 2012 (15.41), February 26, 2014 (21.84), November 3, 2014 (34.47), May 11, 2015 (61.41), February 29, 2016 (27.334), August 2, 2016 (27.32), January 11, 2017 (23.6999), June 26, 2017 (18.5), August 11, 2017 (17.1).\n",
      "generated 120\n",
      " Construct a line chart utilizing ChartsJS to illustrate the peak values of amag.us stock, with the specified dates as the x-axis labels: June 15, 2005; November 4, 2005; February 28, 2006; December 5, 2007; July 24, 2008; September 11, 2008; September 24, 2009; March 30, 2010; November 10, 2010; July 26, 2011; August 10, 2011; September 7, 2011; July 10, 2012; August 2, 2012; July 2, 2013; May 30, 2014; July 2, 2014; September 11, 2015. The corresponding stock values are: 10.75, 8.84, 25.35, 59.64, 39.15, 43.38, 46.2, 36.75, 15.88, 15.67, 14.91, 15.31, 15.5, 15.3, 22.588, 18.64, 20.91, 57.0.\n",
      "generated 140\n",
      " Could you generate a chart with ChartJS that displays the peak values for armk.us stock using the provided data points from 2013-12-16 (23.014), 2013-12-24 (23.875), 2014-10-23 (25.505), 2015-03-17 (31.575), 2015-03-18 (31.624), 2015-05-06 (30.234), 2015-06-09 (30.609), 2015-06-23 (31.194), 2015-07-21 (31.331), 2015-08-21 (31.904), 2015-12-08 (33.28), 2016-06-28 (31.762), 2016-06-29 (32.492), 2016-08-23 (36.9), 2016-09-14 (36.737), 2016-12-06 (35.833), 2017-07-05 (41.075), 2017-08-08 (40.367)?\n",
      "generated 160\n",
      " Develop a line graph using ChartsJS to illustrate the peak values of bdn.us stock, with the dates 2006-03-20, 2007-10-11, 2007-10-16, 2008-11-07, 2008-12-29, 2009-11-12, 2009-11-13, 2009-12-10, 2010-10-15, 2011-04-21, 2013-12-17, 2014-11-17, 2015-06-12, 2015-08-04, 2015-10-09, 2016-07-19, 2016-09-30, 2016-11-07, 2017-02-09, and corresponding stock price points of 23.311, 19.934, 19.204, 6.5364, 5.4838, 7.4713, 7.5891, 7.6036, 8.9797, 9.1612, 11.451, 13.399, 12.422, 12.681, 11.804, 15.728, 15.135, 14.453, 15.929.\n",
      "generated 180\n",
      " Create a line graph using ChartsJS to display the peak values of BDN.US stock, based on the following data points:\n",
      "\n",
      "- November 3, 2005: 20.204\n",
      "- October 9, 2006: 24.429\n",
      "- February 5, 2007: 26.006\n",
      "- May 2, 2007: 24.408\n",
      "- November 9, 2007: 16.274\n",
      "- August 11, 2008: 13.08\n",
      "- October 21, 2009: 7.8465\n",
      "- January 22, 2010: 8.6124\n",
      "- June 15, 2012: 9.1804\n",
      "- August 28, 2012: 9.807\n",
      "- October 11, 2012: 10.115\n",
      "- January 23, 2013: 10.784\n",
      "- May 9, 2013: 13.067\n",
      "- June 25, 2013: 11.025\n",
      "- August 22, 2014: 13.777\n",
      "- September 2, 2014: 13.924\n",
      "- December 2, 2014: 13.635\n",
      "- March 3, 2017: 16.148\n",
      "- March 17, 2017: 15.799\n",
      "\n",
      "The graph should clearly highlight the highest points in the stock's history according to the provided data.\n"
     ]
    }
   ],
   "source": [
    "for i, message in enumerate(messages):\n",
    "    output = pipe(message, **generation_args)\n",
    "    final_prompts.append(output[0]['generated_text'])\n",
    "    print(output[0]['generated_text'])"
   ]
  },
  {
   "cell_type": "code",
   "execution_count": 102,
   "id": "c2f266d5-fec6-48c5-acf9-83e02b564f32",
   "metadata": {},
   "outputs": [],
   "source": [
    "with open(\"final_prompts.json\", \"w\") as f:\n",
    "    json.dump(final_prompts, f, indent=4, ensure_ascii=False)"
   ]
  },
  {
   "cell_type": "code",
   "execution_count": null,
   "id": "79197598-7e14-48f3-a0a2-023ef1199149",
   "metadata": {},
   "outputs": [],
   "source": []
  }
 ],
 "metadata": {
  "kernelspec": {
   "display_name": "Python 3 (ipykernel)",
   "language": "python",
   "name": "python3"
  },
  "language_info": {
   "codemirror_mode": {
    "name": "ipython",
    "version": 3
   },
   "file_extension": ".py",
   "mimetype": "text/x-python",
   "name": "python",
   "nbconvert_exporter": "python",
   "pygments_lexer": "ipython3",
   "version": "3.10.12"
  }
 },
 "nbformat": 4,
 "nbformat_minor": 5
}
