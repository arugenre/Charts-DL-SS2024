{
 "cells": [
  {
   "cell_type": "code",
   "execution_count": 57,
   "id": "56f40a1a-44b9-4075-80de-2f560b78d2d7",
   "metadata": {},
   "outputs": [],
   "source": [
    "import json\n",
    "import pandas as pd\n",
    "import codecs\n",
    "import csv"
   ]
  },
  {
   "cell_type": "code",
   "execution_count": 24,
   "id": "7072e370-a3a3-4c6a-a07d-c30589413a3f",
   "metadata": {},
   "outputs": [
    {
     "data": {
      "text/plain": [
       "[{'chart_type': 'bar',\n",
       "  'chart_title': 'Blood types in Albania',\n",
       "  'data': [{'label': 'O+',\n",
       "    'value': 1048431,\n",
       "    'color': 'rgba(255, 99, 132, 0.2)'},\n",
       "   {'label': 'Others', 'value': 2026148, 'color': 'rgba(255, 99, 132, 0.2)'}],\n",
       "  'labels_count': 2},\n",
       " {'chart_type': 'pie',\n",
       "  'chart_title': 'Blood types in Algeria',\n",
       "  'data': [{'label': 'O+',\n",
       "    'value': 17430676,\n",
       "    'color': 'rgba(255, 99, 132, 0.2)'},\n",
       "   {'label': 'Others', 'value': 26146015, 'color': 'rgba(255, 99, 132, 0.2)'}],\n",
       "  'labels_count': 2}]"
      ]
     },
     "execution_count": 24,
     "metadata": {},
     "output_type": "execute_result"
    }
   ],
   "source": [
    "json_data = []\n",
    "\n",
    "with open(\"final.json\", \"r\") as f:\n",
    "    json_data = json.loads(f.read())\n",
    "\n",
    "for instance in json_data:\n",
    "    instance[\"labels_count\"] = len(instance[\"data\"])\n",
    "\n",
    "json_data[:2]"
   ]
  },
  {
   "cell_type": "code",
   "execution_count": 54,
   "id": "23563189-1646-417f-a576-cbd6a8233ef1",
   "metadata": {},
   "outputs": [],
   "source": [
    "def convert_to_chartjs(json_data):\n",
    "    chartjs_data = []\n",
    "\n",
    "    for chart in json_data:\n",
    "        dataset = {\n",
    "            'label': chart['chart_title'],\n",
    "            'data': [d['value'] for d in chart['data']],\n",
    "        }\n",
    "        \n",
    "        # Only add backgroundColor if all data points have a color\n",
    "        if all('color' in d for d in chart['data']):\n",
    "            dataset['backgroundColor'] = [d['color'] for d in chart['data']]\n",
    "        \n",
    "        chartjs_chart = {\n",
    "            'type': chart['chart_type'],\n",
    "            'data': {\n",
    "                'labels': [d['label'] for d in chart['data']],\n",
    "                'datasets': [dataset]\n",
    "            }\n",
    "        }\n",
    "        \n",
    "        chartjs_data.append(chartjs_chart)\n",
    "\n",
    "    return chartjs_data"
   ]
  },
  {
   "cell_type": "code",
   "execution_count": 55,
   "id": "498ee133-5433-4cd7-9029-57361a10a090",
   "metadata": {
    "scrolled": true
   },
   "outputs": [
    {
     "name": "stdout",
     "output_type": "stream",
     "text": [
      "[{'type': 'bar', 'data': {'labels': ['Réunion', 'Ukraine'], 'datasets': [{'label': 'Population among worldwide countries', 'data': [981796, 36744634], 'backgroundColor': ['rgba(255, 99, 132, 0.2)', 'rgba(255, 99, 132, 0.2)']}]}}, {'type': 'pie', 'data': {'labels': ['Cabo Verde', 'Comoros'], 'datasets': [{'label': 'Population spanning nations', 'data': [598682, 852075], 'backgroundColor': ['rgba(255, 99, 132, 0.2)', 'rgba(255, 99, 132, 0.2)']}]}}, {'type': 'bar', 'data': {'labels': ['Croatia', 'Israel'], 'datasets': [{'label': 'Population over various nations', 'data': [4008617, 9174520], 'backgroundColor': ['rgba(255, 99, 132, 0.2)', 'rgba(255, 99, 132, 0.2)']}]}}, {'type': 'pie', 'data': {'labels': ['Rwanda', 'Vanuatu'], 'datasets': [{'label': 'Population spanning global nations', 'data': [14094683, 334506], 'backgroundColor': ['rgba(255, 99, 132, 0.2)', 'rgba(255, 99, 132, 0.2)']}]}}, {'type': 'bar', 'data': {'labels': ['Brazil', 'Serbia'], 'datasets': [{'label': 'Population in different countries', 'data': [216422446, 7149077], 'backgroundColor': ['rgba(255, 99, 132, 0.2)', 'rgba(255, 99, 132, 0.2)']}]}}]\n"
     ]
    }
   ],
   "source": [
    "print(convert_to_chartjs(json_data[500:505]))"
   ]
  },
  {
   "cell_type": "code",
   "execution_count": 56,
   "id": "0806a339-a6b3-4cc0-85fd-97c8ddb8a9e1",
   "metadata": {},
   "outputs": [
    {
     "name": "stdout",
     "output_type": "stream",
     "text": [
      "[{'type': 'line', 'data': {'labels': ['2015-10-30', '2016-04-29', '2016-06-24', '2016-09-20', '2016-09-22', '2016-10-10', '2016-10-18', '2016-11-01', '2016-11-09', '2016-11-16', '2017-01-11', '2017-02-15', '2017-03-20', '2017-03-22', '2017-06-09', '2017-06-23'], 'datasets': [{'label': 'Highest points of acrs.us stock', 'data': [14.85, 19.89, 18.98, 24.74, 25.075, 25.3, 22.8, 21.23, 22.73, 24.93, 29.24, 28.25, 28.98, 29.65, 25.52, 27.19]}]}}]\n"
     ]
    }
   ],
   "source": [
    "print(convert_to_chartjs(json_data[1000:1001]))"
   ]
  },
  {
   "cell_type": "code",
   "execution_count": 62,
   "id": "a01cc866-d365-47ad-b04e-0fb8e621ae5e",
   "metadata": {},
   "outputs": [],
   "source": [
    "def save_to_csv(chartjs_data, filename):\n",
    "    with open(filename, 'w', newline='') as csvfile:\n",
    "        fieldnames = ['chart.js']\n",
    "        writer = csv.DictWriter(csvfile, fieldnames=fieldnames)\n",
    "        \n",
    "        writer.writeheader()\n",
    "        for chart in chartjs_data:\n",
    "            writer.writerow({'chart.js': chart})"
   ]
  },
  {
   "cell_type": "code",
   "execution_count": 63,
   "id": "d9998c32-b468-4536-b2ee-45abf90f09c8",
   "metadata": {},
   "outputs": [],
   "source": [
    "chartjs_data = convert_to_chartjs(json_data)"
   ]
  },
  {
   "cell_type": "code",
   "execution_count": 64,
   "id": "d8bf81e2-2a73-4a1b-ae68-c542b3e6cb4f",
   "metadata": {},
   "outputs": [],
   "source": [
    "save_to_csv(chartjs_data, 'chartjs_data.csv')"
   ]
  },
  {
   "cell_type": "code",
   "execution_count": null,
   "id": "37b02034-decc-4c7b-9aa6-ce407fc2ad33",
   "metadata": {},
   "outputs": [],
   "source": []
  }
 ],
 "metadata": {
  "kernelspec": {
   "display_name": "Python 3 (ipykernel)",
   "language": "python",
   "name": "python3"
  },
  "language_info": {
   "codemirror_mode": {
    "name": "ipython",
    "version": 3
   },
   "file_extension": ".py",
   "mimetype": "text/x-python",
   "name": "python",
   "nbconvert_exporter": "python",
   "pygments_lexer": "ipython3",
   "version": "3.10.12"
  }
 },
 "nbformat": 4,
 "nbformat_minor": 5
}
