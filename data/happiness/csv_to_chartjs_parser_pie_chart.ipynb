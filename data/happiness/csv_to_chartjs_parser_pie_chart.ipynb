{
 "cells": [
  {
   "cell_type": "code",
   "execution_count": 6,
   "id": "1efbe4a1",
   "metadata": {},
   "outputs": [],
   "source": [
    "import pandas as pd\n",
    "import csv\n",
    "import random"
   ]
  },
  {
   "cell_type": "code",
   "execution_count": 8,
   "id": "c6ba4e7c",
   "metadata": {},
   "outputs": [],
   "source": [
    "df = pd.read_csv('../data/WHR2024.csv')"
   ]
  },
  {
   "cell_type": "code",
   "execution_count": 225,
   "id": "589bb1b2",
   "metadata": {},
   "outputs": [
    {
     "data": {
      "text/html": [
       "<div>\n",
       "<style scoped>\n",
       "    .dataframe tbody tr th:only-of-type {\n",
       "        vertical-align: middle;\n",
       "    }\n",
       "\n",
       "    .dataframe tbody tr th {\n",
       "        vertical-align: top;\n",
       "    }\n",
       "\n",
       "    .dataframe thead th {\n",
       "        text-align: right;\n",
       "    }\n",
       "</style>\n",
       "<table border=\"1\" class=\"dataframe\">\n",
       "  <thead>\n",
       "    <tr style=\"text-align: right;\">\n",
       "      <th></th>\n",
       "      <th>Country name</th>\n",
       "      <th>Ladder score</th>\n",
       "      <th>upperwhisker</th>\n",
       "      <th>lowerwhisker</th>\n",
       "      <th>Explained by: Log GDP per capita</th>\n",
       "      <th>Explained by: Social support</th>\n",
       "      <th>Explained by: Healthy life expectancy</th>\n",
       "      <th>Explained by: Freedom to make life choices</th>\n",
       "      <th>Explained by: Generosity</th>\n",
       "      <th>Explained by: Perceptions of corruption</th>\n",
       "      <th>Dystopia + residual</th>\n",
       "    </tr>\n",
       "  </thead>\n",
       "  <tbody>\n",
       "    <tr>\n",
       "      <th>0</th>\n",
       "      <td>Finland</td>\n",
       "      <td>7.741</td>\n",
       "      <td>7.815</td>\n",
       "      <td>7.667</td>\n",
       "      <td>1.844</td>\n",
       "      <td>1.572</td>\n",
       "      <td>0.695</td>\n",
       "      <td>0.859</td>\n",
       "      <td>0.142</td>\n",
       "      <td>0.546</td>\n",
       "      <td>2.082</td>\n",
       "    </tr>\n",
       "    <tr>\n",
       "      <th>1</th>\n",
       "      <td>Denmark</td>\n",
       "      <td>7.583</td>\n",
       "      <td>7.665</td>\n",
       "      <td>7.500</td>\n",
       "      <td>1.908</td>\n",
       "      <td>1.520</td>\n",
       "      <td>0.699</td>\n",
       "      <td>0.823</td>\n",
       "      <td>0.204</td>\n",
       "      <td>0.548</td>\n",
       "      <td>1.881</td>\n",
       "    </tr>\n",
       "    <tr>\n",
       "      <th>2</th>\n",
       "      <td>Iceland</td>\n",
       "      <td>7.525</td>\n",
       "      <td>7.618</td>\n",
       "      <td>7.433</td>\n",
       "      <td>1.881</td>\n",
       "      <td>1.617</td>\n",
       "      <td>0.718</td>\n",
       "      <td>0.819</td>\n",
       "      <td>0.258</td>\n",
       "      <td>0.182</td>\n",
       "      <td>2.050</td>\n",
       "    </tr>\n",
       "    <tr>\n",
       "      <th>3</th>\n",
       "      <td>Sweden</td>\n",
       "      <td>7.344</td>\n",
       "      <td>7.422</td>\n",
       "      <td>7.267</td>\n",
       "      <td>1.878</td>\n",
       "      <td>1.501</td>\n",
       "      <td>0.724</td>\n",
       "      <td>0.838</td>\n",
       "      <td>0.221</td>\n",
       "      <td>0.524</td>\n",
       "      <td>1.658</td>\n",
       "    </tr>\n",
       "    <tr>\n",
       "      <th>4</th>\n",
       "      <td>Israel</td>\n",
       "      <td>7.341</td>\n",
       "      <td>7.405</td>\n",
       "      <td>7.277</td>\n",
       "      <td>1.803</td>\n",
       "      <td>1.513</td>\n",
       "      <td>0.740</td>\n",
       "      <td>0.641</td>\n",
       "      <td>0.153</td>\n",
       "      <td>0.193</td>\n",
       "      <td>2.298</td>\n",
       "    </tr>\n",
       "  </tbody>\n",
       "</table>\n",
       "</div>"
      ],
      "text/plain": [
       "  Country name  Ladder score  upperwhisker  lowerwhisker  \\\n",
       "0      Finland         7.741         7.815         7.667   \n",
       "1      Denmark         7.583         7.665         7.500   \n",
       "2      Iceland         7.525         7.618         7.433   \n",
       "3       Sweden         7.344         7.422         7.267   \n",
       "4       Israel         7.341         7.405         7.277   \n",
       "\n",
       "   Explained by: Log GDP per capita  Explained by: Social support  \\\n",
       "0                             1.844                         1.572   \n",
       "1                             1.908                         1.520   \n",
       "2                             1.881                         1.617   \n",
       "3                             1.878                         1.501   \n",
       "4                             1.803                         1.513   \n",
       "\n",
       "   Explained by: Healthy life expectancy  \\\n",
       "0                                  0.695   \n",
       "1                                  0.699   \n",
       "2                                  0.718   \n",
       "3                                  0.724   \n",
       "4                                  0.740   \n",
       "\n",
       "   Explained by: Freedom to make life choices  Explained by: Generosity  \\\n",
       "0                                       0.859                     0.142   \n",
       "1                                       0.823                     0.204   \n",
       "2                                       0.819                     0.258   \n",
       "3                                       0.838                     0.221   \n",
       "4                                       0.641                     0.153   \n",
       "\n",
       "   Explained by: Perceptions of corruption  Dystopia + residual  \n",
       "0                                    0.546                2.082  \n",
       "1                                    0.548                1.881  \n",
       "2                                    0.182                2.050  \n",
       "3                                    0.524                1.658  \n",
       "4                                    0.193                2.298  "
      ]
     },
     "execution_count": 225,
     "metadata": {},
     "output_type": "execute_result"
    }
   ],
   "source": [
    "df.head()"
   ]
  },
  {
   "cell_type": "code",
   "execution_count": 226,
   "id": "ead42a00",
   "metadata": {},
   "outputs": [],
   "source": [
    "# with open('chartjs_formatted_piecharts.csv', 'w', newline='') as file:\n",
    "#     writer = csv.writer(file)\n",
    "#     writer.writerow([\"Chart.js\"])"
   ]
  },
  {
   "cell_type": "code",
   "execution_count": 227,
   "id": "d64f2181",
   "metadata": {},
   "outputs": [],
   "source": [
    "#Systematically sample the data\n",
    "def systematic_sampling(data, sample_size):\n",
    "    interval = len(data) // sample_size\n",
    "    start = random.randint(0, interval - 1)\n",
    "    return data[start::interval].reset_index(drop=True)"
   ]
  },
  {
   "cell_type": "code",
   "execution_count": 228,
   "id": "b8520652",
   "metadata": {},
   "outputs": [],
   "source": [
    "list_of_samples_with2_elements = list()\n",
    "list_of_samples_with3_elements = list()\n",
    "list_of_samples_with4_elements = list()"
   ]
  },
  {
   "cell_type": "code",
   "execution_count": 229,
   "id": "5c542052",
   "metadata": {},
   "outputs": [],
   "source": [
    "sample_size = 2\n",
    "for i in range(0, 15):\n",
    "    list_of_samples_with2_elements.append(systematic_sampling(df[['Country name', 'Ladder score']], sample_size))"
   ]
  },
  {
   "cell_type": "code",
   "execution_count": 230,
   "id": "f52982aa",
   "metadata": {},
   "outputs": [],
   "source": [
    "sample_size = 3\n",
    "for i in range(0, 15):\n",
    "    list_of_samples_with3_elements.append(systematic_sampling(df[['Country name', 'Ladder score']], sample_size))"
   ]
  },
  {
   "cell_type": "code",
   "execution_count": 231,
   "id": "aa9f4b06",
   "metadata": {},
   "outputs": [],
   "source": [
    "sample_size = 4\n",
    "for i in range(0, 15):\n",
    "    list_of_samples_with4_elements.append(systematic_sampling(df[['Country name', 'Ladder score']], sample_size))"
   ]
  },
  {
   "cell_type": "code",
   "execution_count": 232,
   "id": "5ead258f",
   "metadata": {},
   "outputs": [
    {
     "data": {
      "text/html": [
       "<div>\n",
       "<style scoped>\n",
       "    .dataframe tbody tr th:only-of-type {\n",
       "        vertical-align: middle;\n",
       "    }\n",
       "\n",
       "    .dataframe tbody tr th {\n",
       "        vertical-align: top;\n",
       "    }\n",
       "\n",
       "    .dataframe thead th {\n",
       "        text-align: right;\n",
       "    }\n",
       "</style>\n",
       "<table border=\"1\" class=\"dataframe\">\n",
       "  <thead>\n",
       "    <tr style=\"text-align: right;\">\n",
       "      <th></th>\n",
       "      <th>Country name</th>\n",
       "      <th>Ladder score</th>\n",
       "    </tr>\n",
       "  </thead>\n",
       "  <tbody>\n",
       "    <tr>\n",
       "      <th>0</th>\n",
       "      <td>Costa Rica</td>\n",
       "      <td>6.955</td>\n",
       "    </tr>\n",
       "    <tr>\n",
       "      <th>1</th>\n",
       "      <td>Uzbekistan</td>\n",
       "      <td>6.195</td>\n",
       "    </tr>\n",
       "    <tr>\n",
       "      <th>2</th>\n",
       "      <td>Armenia</td>\n",
       "      <td>5.455</td>\n",
       "    </tr>\n",
       "    <tr>\n",
       "      <th>3</th>\n",
       "      <td>Uganda</td>\n",
       "      <td>4.372</td>\n",
       "    </tr>\n",
       "  </tbody>\n",
       "</table>\n",
       "</div>"
      ],
      "text/plain": [
       "  Country name  Ladder score\n",
       "0   Costa Rica         6.955\n",
       "1   Uzbekistan         6.195\n",
       "2      Armenia         5.455\n",
       "3       Uganda         4.372"
      ]
     },
     "execution_count": 232,
     "metadata": {},
     "output_type": "execute_result"
    }
   ],
   "source": [
    "list_of_samples_with4_elements[0]"
   ]
  },
  {
   "cell_type": "code",
   "execution_count": 233,
   "id": "64fb60cf",
   "metadata": {},
   "outputs": [
    {
     "data": {
      "text/plain": [
       "'Georgia'"
      ]
     },
     "execution_count": 233,
     "metadata": {},
     "output_type": "execute_result"
    }
   ],
   "source": [
    "tmp = list_of_samples_with2_elements[0]\n",
    "tmp['Country name'][1]"
   ]
  },
  {
   "cell_type": "code",
   "execution_count": 234,
   "id": "b182f127",
   "metadata": {},
   "outputs": [
    {
     "name": "stdout",
     "output_type": "stream",
     "text": [
      "'Costa Rica', 'Uzbekistan', 'Armenia', 'Uganda'\n",
      "6.955, 6.195, 5.455, 4.372\n",
      "new Chart(ctx, { type: 'pie', data: {labels: ['Costa Rica', 'Uzbekistan', 'Armenia', 'Uganda'], datasets: [{label: 'Happiness ladder score', data: [6.955, 6.195, 5.455, 4.372], borderWidth: 1}], options:{plugins: {display:true, text: 'Happiness Levels by Country Comparison', font: {size: 16} } } } });\n",
      "'Kuwait', 'Argentina', 'South Africa', 'Myanmar'\n",
      "6.951, 6.188, 5.422, 4.354\n",
      "new Chart(ctx, { type: 'pie', data: {labels: ['Kuwait', 'Argentina', 'South Africa', 'Myanmar'], datasets: [{label: 'Happiness ladder score', data: [6.951, 6.188, 5.422, 4.354], borderWidth: 1}], options:{plugins: {display:true, text: 'Happiness Levels by Country Comparison', font: {size: 16} } } } });\n",
      "'Denmark', 'Serbia', 'Russia', 'Morocco', 'Lebanon'\n",
      "7.583, 6.411, 5.785, 4.795, 2.707\n",
      "new Chart(ctx, { type: 'pie', data: {labels: ['Denmark', 'Serbia', 'Russia', 'Morocco', 'Lebanon'], datasets: [{label: 'Happiness ladder score', data: [7.583, 6.411, 5.785, 4.795, 2.707], borderWidth: 1}], options:{plugins: {display:true, text: 'Happiness Levels by Country Comparison', font: {size: 16} } } } });\n",
      "'Kosovo', 'Greece', 'Senegal', 'Zambia'\n",
      "6.561, 5.934, 4.969, 3.502\n",
      "new Chart(ctx, { type: 'pie', data: {labels: ['Kosovo', 'Greece', 'Senegal', 'Zambia'], datasets: [{label: 'Happiness ladder score', data: [6.561, 5.934, 4.969, 3.502], borderWidth: 1}], options:{plugins: {display:true, text: 'Happiness Levels by Country Comparison', font: {size: 16} } } } });\n",
      "'Switzerland', 'Brazil', 'Venezuela', 'Kenya'\n",
      "7.06, 6.272, 5.607, 4.47\n",
      "new Chart(ctx, { type: 'pie', data: {labels: ['Switzerland', 'Brazil', 'Venezuela', 'Kenya'], datasets: [{label: 'Happiness ladder score', data: [7.06, 6.272, 5.607, 4.47], borderWidth: 1}], options:{plugins: {display:true, text: 'Happiness Levels by Country Comparison', font: {size: 16} } } } });\n",
      "'Uruguay', 'Honduras', 'Ivory Coast', 'Tanzania'\n",
      "6.611, 5.968, 5.08, 3.781\n",
      "new Chart(ctx, { type: 'pie', data: {labels: ['Uruguay', 'Honduras', 'Ivory Coast', 'Tanzania'], datasets: [{label: 'Happiness ladder score', data: [6.611, 5.968, 5.08, 3.781], borderWidth: 1}], options:{plugins: {display:true, text: 'Happiness Levels by Country Comparison', font: {size: 16} } } } });\n",
      "'Poland', 'Mauritius', 'Ukraine', 'Sierra Leone'\n",
      "6.442, 5.816, 4.873, 3.245\n",
      "new Chart(ctx, { type: 'pie', data: {labels: ['Poland', 'Mauritius', 'Ukraine', 'Sierra Leone'], datasets: [{label: 'Happiness ladder score', data: [6.442, 5.816, 4.873, 3.245], borderWidth: 1}], options:{plugins: {display:true, text: 'Happiness Levels by Country Comparison', font: {size: 16} } } } });\n",
      "'Israel', 'Malta', 'Kyrgyzstan', 'Burkina Faso'\n",
      "7.341, 6.346, 5.714, 4.548\n",
      "new Chart(ctx, { type: 'pie', data: {labels: ['Israel', 'Malta', 'Kyrgyzstan', 'Burkina Faso'], datasets: [{label: 'Happiness ladder score', data: [7.341, 6.346, 5.714, 4.548], borderWidth: 1}], options:{plugins: {display:true, text: 'Happiness Levels by Country Comparison', font: {size: 16} } } } });\n",
      "'Denmark', 'Serbia', 'Russia', 'Morocco', 'Lebanon'\n",
      "7.583, 6.411, 5.785, 4.795, 2.707\n",
      "new Chart(ctx, { type: 'pie', data: {labels: ['Denmark', 'Serbia', 'Russia', 'Morocco', 'Lebanon'], datasets: [{label: 'Happiness ladder score', data: [7.583, 6.411, 5.785, 4.795, 2.707], borderWidth: 1}], options:{plugins: {display:true, text: 'Happiness Levels by Country Comparison', font: {size: 16} } } } });\n",
      "'Israel', 'Malta', 'Kyrgyzstan', 'Burkina Faso'\n",
      "7.341, 6.346, 5.714, 4.548\n",
      "new Chart(ctx, { type: 'pie', data: {labels: ['Israel', 'Malta', 'Kyrgyzstan', 'Burkina Faso'], datasets: [{label: 'Happiness ladder score', data: [7.341, 6.346, 5.714, 4.548], borderWidth: 1}], options:{plugins: {display:true, text: 'Happiness Levels by Country Comparison', font: {size: 16} } } } });\n",
      "'Germany', 'Malaysia', 'Laos', 'Bangladesh'\n",
      "6.719, 5.975, 5.139, 3.886\n",
      "new Chart(ctx, { type: 'pie', data: {labels: ['Germany', 'Malaysia', 'Laos', 'Bangladesh'], datasets: [{label: 'Happiness ladder score', data: [6.719, 5.975, 5.139, 3.886], borderWidth: 1}], options:{plugins: {display:true, text: 'Happiness Levels by Country Comparison', font: {size: 16} } } } });\n",
      "'Uruguay', 'Honduras', 'Ivory Coast', 'Tanzania'\n",
      "6.611, 5.968, 5.08, 3.781\n",
      "new Chart(ctx, { type: 'pie', data: {labels: ['Uruguay', 'Honduras', 'Ivory Coast', 'Tanzania'], datasets: [{label: 'Happiness ladder score', data: [6.611, 5.968, 5.08, 3.781], borderWidth: 1}], options:{plugins: {display:true, text: 'Happiness Levels by Country Comparison', font: {size: 16} } } } });\n",
      "'Ireland', 'South Korea', 'Albania', 'Mali'\n",
      "6.838, 6.058, 5.304, 4.232\n",
      "new Chart(ctx, { type: 'pie', data: {labels: ['Ireland', 'South Korea', 'Albania', 'Mali'], datasets: [{label: 'Happiness ladder score', data: [6.838, 6.058, 5.304, 4.232], borderWidth: 1}], options:{plugins: {display:true, text: 'Happiness Levels by Country Comparison', font: {size: 16} } } } });\n",
      "'Mexico', 'China', 'Gabon', 'Ethiopia'\n",
      "6.678, 5.973, 5.106, 3.861\n",
      "new Chart(ctx, { type: 'pie', data: {labels: ['Mexico', 'China', 'Gabon', 'Ethiopia'], datasets: [{label: 'Happiness ladder score', data: [6.678, 5.973, 5.106, 3.861], borderWidth: 1}], options:{plugins: {display:true, text: 'Happiness Levels by Country Comparison', font: {size: 16} } } } });\n",
      "'Poland', 'Mauritius', 'Ukraine', 'Sierra Leone'\n",
      "6.442, 5.816, 4.873, 3.245\n",
      "new Chart(ctx, { type: 'pie', data: {labels: ['Poland', 'Mauritius', 'Ukraine', 'Sierra Leone'], datasets: [{label: 'Happiness ladder score', data: [6.442, 5.816, 4.873, 3.245], borderWidth: 1}], options:{plugins: {display:true, text: 'Happiness Levels by Country Comparison', font: {size: 16} } } } });\n"
     ]
    }
   ],
   "source": [
    "#Writing into a csv \n",
    "for temp in list_of_samples_with4_elements:\n",
    "    cntrs = \"\"\n",
    "    ldrs = \"\"\n",
    "    for index, row in temp.iterrows():\n",
    "        cntrs = cntrs + \"'\"+ row['Country name'] + \"'\" + \", \"\n",
    "        ldrs = ldrs + str(row[\"Ladder score\"]) + \", \"\n",
    "    cntrs = cntrs[:-2]\n",
    "    ldrs = ldrs[:-2]\n",
    "    print(cntrs)\n",
    "    print(ldrs)\n",
    "    shablon = \"new Chart(ctx, {{ type: 'pie', data: {{labels: [{countries}], datasets: [{{label: 'Happiness ladder score', data: [{ladder_score}], borderWidth: 1}}], options:{{plugins: {{display:true, text: 'Happiness Levels by Country Comparison', font: {{size: 16}} }} }} }} }});\"\n",
    "    formatted_shablon = shablon.format(countries=cntrs, ladder_score=ldrs)\n",
    "    formatted_shablon = formatted_shablon.replace(\"{{\", \"{\").replace(\"}}\", \"}\")\n",
    "    print(formatted_shablon)\n",
    "    with open('chartjs_formatted_piecharts.csv', 'a', newline='') as file:\n",
    "        writer = csv.writer(file)\n",
    "        writer.writerow([formatted_shablon])"
   ]
  },
  {
   "cell_type": "code",
   "execution_count": null,
   "id": "4de1d67a",
   "metadata": {},
   "outputs": [],
   "source": [
    "# shablon = \"new Chart(ctx, {type: 'pie', data: {labels: ['Finland', 'Russia', 'Afghanistan'], datasets: [{label: 'Happiness ladder score', data: [7.741, 4.441, 1.721], borderWidth: 1}]}, options: {plugins: {title: {display: true, text: 'Happiness Levels Comparison', font: {size: 16} } } } });\""
   ]
  }
 ],
 "metadata": {
  "kernelspec": {
   "display_name": "Python 3 (ipykernel)",
   "language": "python",
   "name": "python3"
  },
  "language_info": {
   "codemirror_mode": {
    "name": "ipython",
    "version": 3
   },
   "file_extension": ".py",
   "mimetype": "text/x-python",
   "name": "python",
   "nbconvert_exporter": "python",
   "pygments_lexer": "ipython3",
   "version": "3.10.12"
  }
 },
 "nbformat": 4,
 "nbformat_minor": 5
}
