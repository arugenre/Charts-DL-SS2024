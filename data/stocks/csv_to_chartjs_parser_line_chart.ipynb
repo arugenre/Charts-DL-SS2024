{
 "cells": [
  {
   "cell_type": "code",
   "execution_count": 176,
   "id": "0aa44ead",
   "metadata": {},
   "outputs": [],
   "source": [
    "import pandas as pd\n",
    "import csv"
   ]
  },
  {
   "cell_type": "code",
   "execution_count": 198,
   "id": "d008908c",
   "metadata": {},
   "outputs": [],
   "source": [
    "df = pd.read_csv('data/Stocks/cash.us.txt')"
   ]
  },
  {
   "cell_type": "code",
   "execution_count": 199,
   "id": "12e532d1",
   "metadata": {},
   "outputs": [],
   "source": [
    "# with open('chartjs_formatted_linecharts.csv', 'w', newline='') as file:\n",
    "#     writer = csv.writer(file)\n",
    "#     writer.writerow([\"Chart.js\"])"
   ]
  },
  {
   "cell_type": "code",
   "execution_count": 200,
   "id": "8b769e28",
   "metadata": {},
   "outputs": [
    {
     "data": {
      "text/html": [
       "<div>\n",
       "<style scoped>\n",
       "    .dataframe tbody tr th:only-of-type {\n",
       "        vertical-align: middle;\n",
       "    }\n",
       "\n",
       "    .dataframe tbody tr th {\n",
       "        vertical-align: top;\n",
       "    }\n",
       "\n",
       "    .dataframe thead th {\n",
       "        text-align: right;\n",
       "    }\n",
       "</style>\n",
       "<table border=\"1\" class=\"dataframe\">\n",
       "  <thead>\n",
       "    <tr style=\"text-align: right;\">\n",
       "      <th></th>\n",
       "      <th>Date</th>\n",
       "      <th>Open</th>\n",
       "      <th>High</th>\n",
       "      <th>Low</th>\n",
       "      <th>Close</th>\n",
       "      <th>Volume</th>\n",
       "      <th>OpenInt</th>\n",
       "    </tr>\n",
       "  </thead>\n",
       "  <tbody>\n",
       "    <tr>\n",
       "      <th>0</th>\n",
       "      <td>2005-02-25</td>\n",
       "      <td>21.152</td>\n",
       "      <td>21.160</td>\n",
       "      <td>20.937</td>\n",
       "      <td>20.983</td>\n",
       "      <td>4008</td>\n",
       "      <td>0</td>\n",
       "    </tr>\n",
       "    <tr>\n",
       "      <th>1</th>\n",
       "      <td>2005-02-28</td>\n",
       "      <td>20.436</td>\n",
       "      <td>21.773</td>\n",
       "      <td>20.436</td>\n",
       "      <td>21.037</td>\n",
       "      <td>7909</td>\n",
       "      <td>0</td>\n",
       "    </tr>\n",
       "    <tr>\n",
       "      <th>2</th>\n",
       "      <td>2005-03-01</td>\n",
       "      <td>20.704</td>\n",
       "      <td>20.704</td>\n",
       "      <td>20.694</td>\n",
       "      <td>20.694</td>\n",
       "      <td>559</td>\n",
       "      <td>0</td>\n",
       "    </tr>\n",
       "    <tr>\n",
       "      <th>3</th>\n",
       "      <td>2005-03-02</td>\n",
       "      <td>20.847</td>\n",
       "      <td>20.856</td>\n",
       "      <td>20.847</td>\n",
       "      <td>20.856</td>\n",
       "      <td>448</td>\n",
       "      <td>0</td>\n",
       "    </tr>\n",
       "    <tr>\n",
       "      <th>4</th>\n",
       "      <td>2005-03-03</td>\n",
       "      <td>21.440</td>\n",
       "      <td>21.440</td>\n",
       "      <td>20.549</td>\n",
       "      <td>21.296</td>\n",
       "      <td>4457</td>\n",
       "      <td>0</td>\n",
       "    </tr>\n",
       "  </tbody>\n",
       "</table>\n",
       "</div>"
      ],
      "text/plain": [
       "         Date    Open    High     Low   Close  Volume  OpenInt\n",
       "0  2005-02-25  21.152  21.160  20.937  20.983    4008        0\n",
       "1  2005-02-28  20.436  21.773  20.436  21.037    7909        0\n",
       "2  2005-03-01  20.704  20.704  20.694  20.694     559        0\n",
       "3  2005-03-02  20.847  20.856  20.847  20.856     448        0\n",
       "4  2005-03-03  21.440  21.440  20.549  21.296    4457        0"
      ]
     },
     "execution_count": 200,
     "metadata": {},
     "output_type": "execute_result"
    }
   ],
   "source": [
    "df.head()"
   ]
  },
  {
   "cell_type": "code",
   "execution_count": 201,
   "id": "22bf21bd",
   "metadata": {},
   "outputs": [
    {
     "data": {
      "text/plain": [
       "0       2005-02-25\n",
       "1       2005-02-28\n",
       "2       2005-03-01\n",
       "3       2005-03-02\n",
       "4       2005-03-03\n",
       "           ...    \n",
       "2944    2017-11-06\n",
       "2945    2017-11-07\n",
       "2946    2017-11-08\n",
       "2947    2017-11-09\n",
       "2948    2017-11-10\n",
       "Name: Date, Length: 2949, dtype: object"
      ]
     },
     "execution_count": 201,
     "metadata": {},
     "output_type": "execute_result"
    }
   ],
   "source": [
    "df['Date']"
   ]
  },
  {
   "cell_type": "code",
   "execution_count": 202,
   "id": "10deda4c",
   "metadata": {},
   "outputs": [
    {
     "data": {
      "text/plain": [
       "0       21.160\n",
       "1       21.773\n",
       "2       20.704\n",
       "3       20.856\n",
       "4       21.440\n",
       "         ...  \n",
       "2944    88.200\n",
       "2945    87.850\n",
       "2946    86.550\n",
       "2947    86.300\n",
       "2948    86.845\n",
       "Name: High, Length: 2949, dtype: float64"
      ]
     },
     "execution_count": 202,
     "metadata": {},
     "output_type": "execute_result"
    }
   ],
   "source": [
    "df['High']"
   ]
  },
  {
   "cell_type": "markdown",
   "id": "a5faa980",
   "metadata": {},
   "source": [
    "# Needed format of data for linechart\n",
    "![Chart Format](chart_format.png)"
   ]
  },
  {
   "cell_type": "code",
   "execution_count": 203,
   "id": "0d6fdea8",
   "metadata": {},
   "outputs": [
    {
     "data": {
      "text/html": [
       "<div>\n",
       "<style scoped>\n",
       "    .dataframe tbody tr th:only-of-type {\n",
       "        vertical-align: middle;\n",
       "    }\n",
       "\n",
       "    .dataframe tbody tr th {\n",
       "        vertical-align: top;\n",
       "    }\n",
       "\n",
       "    .dataframe thead th {\n",
       "        text-align: right;\n",
       "    }\n",
       "</style>\n",
       "<table border=\"1\" class=\"dataframe\">\n",
       "  <thead>\n",
       "    <tr style=\"text-align: right;\">\n",
       "      <th></th>\n",
       "      <th>Date</th>\n",
       "      <th>High</th>\n",
       "    </tr>\n",
       "  </thead>\n",
       "  <tbody>\n",
       "    <tr>\n",
       "      <th>0</th>\n",
       "      <td>2005-02-25</td>\n",
       "      <td>21.160</td>\n",
       "    </tr>\n",
       "    <tr>\n",
       "      <th>1</th>\n",
       "      <td>2005-02-28</td>\n",
       "      <td>21.773</td>\n",
       "    </tr>\n",
       "    <tr>\n",
       "      <th>2</th>\n",
       "      <td>2005-03-01</td>\n",
       "      <td>20.704</td>\n",
       "    </tr>\n",
       "    <tr>\n",
       "      <th>3</th>\n",
       "      <td>2005-03-02</td>\n",
       "      <td>20.856</td>\n",
       "    </tr>\n",
       "    <tr>\n",
       "      <th>4</th>\n",
       "      <td>2005-03-03</td>\n",
       "      <td>21.440</td>\n",
       "    </tr>\n",
       "    <tr>\n",
       "      <th>...</th>\n",
       "      <td>...</td>\n",
       "      <td>...</td>\n",
       "    </tr>\n",
       "    <tr>\n",
       "      <th>2944</th>\n",
       "      <td>2017-11-06</td>\n",
       "      <td>88.200</td>\n",
       "    </tr>\n",
       "    <tr>\n",
       "      <th>2945</th>\n",
       "      <td>2017-11-07</td>\n",
       "      <td>87.850</td>\n",
       "    </tr>\n",
       "    <tr>\n",
       "      <th>2946</th>\n",
       "      <td>2017-11-08</td>\n",
       "      <td>86.550</td>\n",
       "    </tr>\n",
       "    <tr>\n",
       "      <th>2947</th>\n",
       "      <td>2017-11-09</td>\n",
       "      <td>86.300</td>\n",
       "    </tr>\n",
       "    <tr>\n",
       "      <th>2948</th>\n",
       "      <td>2017-11-10</td>\n",
       "      <td>86.845</td>\n",
       "    </tr>\n",
       "  </tbody>\n",
       "</table>\n",
       "<p>2949 rows × 2 columns</p>\n",
       "</div>"
      ],
      "text/plain": [
       "            Date    High\n",
       "0     2005-02-25  21.160\n",
       "1     2005-02-28  21.773\n",
       "2     2005-03-01  20.704\n",
       "3     2005-03-02  20.856\n",
       "4     2005-03-03  21.440\n",
       "...          ...     ...\n",
       "2944  2017-11-06  88.200\n",
       "2945  2017-11-07  87.850\n",
       "2946  2017-11-08  86.550\n",
       "2947  2017-11-09  86.300\n",
       "2948  2017-11-10  86.845\n",
       "\n",
       "[2949 rows x 2 columns]"
      ]
     },
     "execution_count": 203,
     "metadata": {},
     "output_type": "execute_result"
    }
   ],
   "source": [
    "dates_highs = df[['Date','High']]\n",
    "dates_highs"
   ]
  },
  {
   "cell_type": "code",
   "execution_count": 204,
   "id": "24d63f4f",
   "metadata": {},
   "outputs": [],
   "source": [
    "#Thinning out the dataframe slightly\n",
    "count = 0\n",
    "stock_change_weekly_dates = list()\n",
    "stock_change_weekly_highs = list()\n",
    "for i in range(0, len(dates_highs), 7):\n",
    "    stock_change_weekly_dates.append(dates_highs['Date'][i])\n",
    "    stock_change_weekly_highs.append(dates_highs['High'][i])\n",
    "#print(count)"
   ]
  },
  {
   "cell_type": "code",
   "execution_count": 205,
   "id": "2f786b2d",
   "metadata": {},
   "outputs": [],
   "source": [
    "#original shablon\n",
    "shablon = \"new Chart(ctx, { type: 'line', data: {labels: ['2010-07-21', '2010-07-22', '2010-07-23'], datasets: [{label: 'Highs of stocks over time', data: [24.333, 24.644, 24.759], borderWidth: 1}], options:{scales:{y:{beginAtZero: true} } } } });\""
   ]
  },
  {
   "cell_type": "code",
   "execution_count": 206,
   "id": "8f4f5097",
   "metadata": {},
   "outputs": [
    {
     "name": "stdout",
     "output_type": "stream",
     "text": [
      "[\"'2005-02-25', '2005-03-08', '2005-03-18', '2005-04-05', '2005-04-20', '2005-05-04', '2005-05-24', '2005-06-08', '2005-06-27', '2005-07-08'\", \"'2005-07-19', '2005-07-29', '2005-08-10', '2005-08-22', '2005-09-06', '2005-09-19', '2005-10-04', '2005-10-19', '2005-11-08', '2005-11-30'\", \"'2005-12-14', '2006-01-04', '2006-01-20', '2006-02-08', '2006-02-23', '2006-03-09', '2006-03-20', '2006-03-30', '2006-04-11', '2006-04-25'\", \"'2006-05-08', '2006-05-23', '2006-06-06', '2006-06-20', '2006-07-07', '2006-07-18', '2006-07-27', '2006-08-16', '2006-08-30', '2006-09-11'\", \"'2006-09-25', '2006-10-04', '2006-10-16', '2006-10-25', '2006-11-03', '2006-11-15', '2006-12-04', '2006-12-14', '2006-12-26', '2007-01-08'\", \"'2007-01-18', '2007-01-30', '2007-02-08', '2007-02-20', '2007-03-01', '2007-03-13', '2007-03-23', '2007-04-04', '2007-04-16', '2007-04-25'\", \"'2007-05-04', '2007-05-15', '2007-05-24', '2007-06-05', '2007-06-15', '2007-06-28', '2007-07-10', '2007-07-23', '2007-08-01', '2007-08-10'\", \"'2007-08-21', '2007-08-30', '2007-09-12', '2007-09-24', '2007-10-03', '2007-10-12', '2007-10-25', '2007-11-05', '2007-11-20', '2007-12-03'\", \"'2007-12-12', '2007-12-24', '2008-01-04', '2008-01-17', '2008-01-29', '2008-02-08', '2008-02-20', '2008-03-03', '2008-03-12', '2008-03-25'\", \"'2008-04-03', '2008-04-14', '2008-04-24', '2008-05-05', '2008-05-14', '2008-05-23', '2008-06-04', '2008-06-13', '2008-06-26', '2008-07-10'\", \"'2008-07-23', '2008-08-01', '2008-08-12', '2008-08-27', '2008-09-08', '2008-09-18', '2008-09-29', '2008-10-08', '2008-10-21', '2008-10-30'\", \"'2008-11-11', '2008-11-21', '2008-12-04', '2008-12-15', '2008-12-29', '2009-01-08', '2009-01-28', '2009-02-06', '2009-02-18', '2009-02-27'\", \"'2009-03-10', '2009-03-19', '2009-03-31', '2009-04-09', '2009-04-21', '2009-05-01', '2009-05-12', '2009-05-21', '2009-06-02', '2009-06-11'\", \"'2009-06-22', '2009-07-01', '2009-07-16', '2009-07-28', '2009-08-06', '2009-08-17', '2009-08-26', '2009-09-08', '2009-09-17', '2009-10-01'\", \"'2009-10-12', '2009-10-21', '2009-11-06', '2009-11-18', '2009-12-01', '2009-12-14', '2009-12-24', '2010-01-06', '2010-01-19', '2010-01-28'\", \"'2010-02-08', '2010-02-18', '2010-03-01', '2010-03-10', '2010-03-19', '2010-03-30', '2010-04-09', '2010-04-20', '2010-04-30', '2010-05-11'\", \"'2010-05-20', '2010-06-01', '2010-06-14', '2010-06-25', '2010-07-07', '2010-07-19', '2010-07-28', '2010-08-06', '2010-08-17', '2010-08-26'\", \"'2010-09-07', '2010-09-16', '2010-09-28', '2010-10-08', '2010-10-19', '2010-10-28', '2010-11-08', '2010-11-17', '2010-11-29', '2010-12-08'\", \"'2010-12-17', '2010-12-29', '2011-01-07', '2011-01-19', '2011-01-28', '2011-02-08', '2011-02-17', '2011-03-01', '2011-03-10', '2011-03-21'\", \"'2011-03-30', '2011-04-08', '2011-04-19', '2011-04-29', '2011-05-10', '2011-05-19', '2011-06-01', '2011-06-13', '2011-06-22', '2011-07-01'\"]\n",
      "['21.16, 21.05, 20.97, 21.14, 20.55, 18.48, 19.43, 18.76, 18.18, 17.47', '16.59, 17.19, 16.61, 16.38, 16.61, 17.79, 16.66, 18.42, 17.48, 20.61', '19.79, 18.21, 18.19, 18.85, 19.14, 18.42, 21.64, 20.50, 19.75, 20.46', '19.98, 20.20, 19.94, 19.74, 20.28, 20.74, 20.75, 20.65, 21.10, 21.55', '21.16, 22.18, 23.11, 22.44, 23.12, 23.41, 24.04, 24.19, 24.24, 26.63', '25.50, 27.82, 28.09, 27.12, 27.46, 27.66, 27.98, 28.73, 30.52, 33.02', '34.65, 34.30, 33.93, 34.09, 33.94, 33.89, 36.28, 35.91, 37.71, 35.91', '35.73, 35.91, 36.71, 35.24, 36.81, 37.00, 37.58, 36.36, 35.88, 36.81', '37.34, 37.59, 36.14, 29.76, 28.09, 26.04, 25.62, 24.20, 19.89, 19.30', '15.25, 19.21, 16.16, 14.93, 17.73, 22.89, 23.23, 22.21, 22.89, 24.23', '23.79, 21.26, 20.20, 17.76, 16.02, 15.98, 17.96, 11.04, 10.90, 10.33', '10.60, 8.08, 8.78, 8.21, 7.18, 9.69, 9.11, 8.89, 8.75, 7.54', '7.40, 9.34, 10.08, 8.30, 9.07, 12.12, 14.36, 13.24, 15.47, 17.85', '19.09, 19.30, 17.30, 20.14, 21.47, 19.85, 20.19, 21.10, 21.59, 21.46', '21.32, 20.25, 19.82, 20.23, 19.70, 20.07, 18.86, 19.75, 19.66, 17.59', '17.24, 18.63, 19.08, 19.44, 21.01, 22.45, 26.62, 24.46, 25.16, 30.61', '28.18, 26.20, 27.83, 28.06, 27.02, 27.51, 27.81, 30.98, 31.87, 32.32', '31.22, 28.77, 28.73, 29.91, 13.60, 12.24, 12.69, 12.27, 11.73, 12.56', '12.23, 12.21, 12.72, 13.87, 13.35, 14.51, 15.14, 16.85, 16.26, 15.24', '14.64, 14.00, 13.29, 13.19, 13.81, 12.35, 13.59, 14.14, 13.08, 17.51']\n"
     ]
    }
   ],
   "source": [
    "#Chart with 5 dates\n",
    "# Assuming 'dates' is your list of 600 date strings\n",
    "# Number of elements to include in each string\n",
    "chunk_size = 10\n",
    "# Creating the new list of concatenated date strings\n",
    "resulting_strings = []\n",
    "for i in range(0, 200, chunk_size):\n",
    "    # Join five dates to form one string, add it to the result list\n",
    "    # Ensure not to exceed list bounds\n",
    "    if i + chunk_size <= len(stock_change_weekly_dates):\n",
    "        combined_string = ', '.join(\"'\" + date + \"'\" for date in stock_change_weekly_dates[i:i+chunk_size])\n",
    "        resulting_strings.append(combined_string)\n",
    "# Now resulting_strings contains 25 elements if dates list has exactly 600 elements\n",
    "print(resulting_strings)\n",
    "resulting_float_strings = []\n",
    "for i in range(0, 200, chunk_size):\n",
    "    # Join five floats to form one string, add it to the result list\n",
    "    # Ensure not to exceed list bounds\n",
    "    if i + chunk_size <= len(stock_change_weekly_highs):\n",
    "        combined_string = ', '.join(format(f, '.2f') for f in stock_change_weekly_highs[i:i+chunk_size])\n",
    "        resulting_float_strings.append(combined_string)\n",
    "print(resulting_float_strings)"
   ]
  },
  {
   "cell_type": "code",
   "execution_count": 208,
   "id": "ede71e40",
   "metadata": {},
   "outputs": [
    {
     "name": "stdout",
     "output_type": "stream",
     "text": [
      "new Chart(ctx, { type: 'line', data: {labels: ['2005-02-25', '2005-03-08', '2005-03-18', '2005-04-05', '2005-04-20', '2005-05-04', '2005-05-24', '2005-06-08', '2005-06-27', '2005-07-08'], datasets: [{label: 'Highest points of cash.us stock', data: [21.16, 21.05, 20.97, 21.14, 20.55, 18.48, 19.43, 18.76, 18.18, 17.47], borderWidth: 1}], options:{scales:{y:{beginAtZero: true} } } } });\n",
      "new Chart(ctx, { type: 'line', data: {labels: ['2005-07-19', '2005-07-29', '2005-08-10', '2005-08-22', '2005-09-06', '2005-09-19', '2005-10-04', '2005-10-19', '2005-11-08', '2005-11-30'], datasets: [{label: 'Highest points of cash.us stock', data: [16.59, 17.19, 16.61, 16.38, 16.61, 17.79, 16.66, 18.42, 17.48, 20.61], borderWidth: 1}], options:{scales:{y:{beginAtZero: true} } } } });\n",
      "new Chart(ctx, { type: 'line', data: {labels: ['2005-12-14', '2006-01-04', '2006-01-20', '2006-02-08', '2006-02-23', '2006-03-09', '2006-03-20', '2006-03-30', '2006-04-11', '2006-04-25'], datasets: [{label: 'Highest points of cash.us stock', data: [19.79, 18.21, 18.19, 18.85, 19.14, 18.42, 21.64, 20.50, 19.75, 20.46], borderWidth: 1}], options:{scales:{y:{beginAtZero: true} } } } });\n",
      "new Chart(ctx, { type: 'line', data: {labels: ['2006-05-08', '2006-05-23', '2006-06-06', '2006-06-20', '2006-07-07', '2006-07-18', '2006-07-27', '2006-08-16', '2006-08-30', '2006-09-11'], datasets: [{label: 'Highest points of cash.us stock', data: [19.98, 20.20, 19.94, 19.74, 20.28, 20.74, 20.75, 20.65, 21.10, 21.55], borderWidth: 1}], options:{scales:{y:{beginAtZero: true} } } } });\n",
      "new Chart(ctx, { type: 'line', data: {labels: ['2006-09-25', '2006-10-04', '2006-10-16', '2006-10-25', '2006-11-03', '2006-11-15', '2006-12-04', '2006-12-14', '2006-12-26', '2007-01-08'], datasets: [{label: 'Highest points of cash.us stock', data: [21.16, 22.18, 23.11, 22.44, 23.12, 23.41, 24.04, 24.19, 24.24, 26.63], borderWidth: 1}], options:{scales:{y:{beginAtZero: true} } } } });\n",
      "new Chart(ctx, { type: 'line', data: {labels: ['2007-01-18', '2007-01-30', '2007-02-08', '2007-02-20', '2007-03-01', '2007-03-13', '2007-03-23', '2007-04-04', '2007-04-16', '2007-04-25'], datasets: [{label: 'Highest points of cash.us stock', data: [25.50, 27.82, 28.09, 27.12, 27.46, 27.66, 27.98, 28.73, 30.52, 33.02], borderWidth: 1}], options:{scales:{y:{beginAtZero: true} } } } });\n",
      "new Chart(ctx, { type: 'line', data: {labels: ['2007-05-04', '2007-05-15', '2007-05-24', '2007-06-05', '2007-06-15', '2007-06-28', '2007-07-10', '2007-07-23', '2007-08-01', '2007-08-10'], datasets: [{label: 'Highest points of cash.us stock', data: [34.65, 34.30, 33.93, 34.09, 33.94, 33.89, 36.28, 35.91, 37.71, 35.91], borderWidth: 1}], options:{scales:{y:{beginAtZero: true} } } } });\n",
      "new Chart(ctx, { type: 'line', data: {labels: ['2007-08-21', '2007-08-30', '2007-09-12', '2007-09-24', '2007-10-03', '2007-10-12', '2007-10-25', '2007-11-05', '2007-11-20', '2007-12-03'], datasets: [{label: 'Highest points of cash.us stock', data: [35.73, 35.91, 36.71, 35.24, 36.81, 37.00, 37.58, 36.36, 35.88, 36.81], borderWidth: 1}], options:{scales:{y:{beginAtZero: true} } } } });\n",
      "new Chart(ctx, { type: 'line', data: {labels: ['2007-12-12', '2007-12-24', '2008-01-04', '2008-01-17', '2008-01-29', '2008-02-08', '2008-02-20', '2008-03-03', '2008-03-12', '2008-03-25'], datasets: [{label: 'Highest points of cash.us stock', data: [37.34, 37.59, 36.14, 29.76, 28.09, 26.04, 25.62, 24.20, 19.89, 19.30], borderWidth: 1}], options:{scales:{y:{beginAtZero: true} } } } });\n",
      "new Chart(ctx, { type: 'line', data: {labels: ['2008-04-03', '2008-04-14', '2008-04-24', '2008-05-05', '2008-05-14', '2008-05-23', '2008-06-04', '2008-06-13', '2008-06-26', '2008-07-10'], datasets: [{label: 'Highest points of cash.us stock', data: [15.25, 19.21, 16.16, 14.93, 17.73, 22.89, 23.23, 22.21, 22.89, 24.23], borderWidth: 1}], options:{scales:{y:{beginAtZero: true} } } } });\n",
      "new Chart(ctx, { type: 'line', data: {labels: ['2008-07-23', '2008-08-01', '2008-08-12', '2008-08-27', '2008-09-08', '2008-09-18', '2008-09-29', '2008-10-08', '2008-10-21', '2008-10-30'], datasets: [{label: 'Highest points of cash.us stock', data: [23.79, 21.26, 20.20, 17.76, 16.02, 15.98, 17.96, 11.04, 10.90, 10.33], borderWidth: 1}], options:{scales:{y:{beginAtZero: true} } } } });\n",
      "new Chart(ctx, { type: 'line', data: {labels: ['2008-11-11', '2008-11-21', '2008-12-04', '2008-12-15', '2008-12-29', '2009-01-08', '2009-01-28', '2009-02-06', '2009-02-18', '2009-02-27'], datasets: [{label: 'Highest points of cash.us stock', data: [10.60, 8.08, 8.78, 8.21, 7.18, 9.69, 9.11, 8.89, 8.75, 7.54], borderWidth: 1}], options:{scales:{y:{beginAtZero: true} } } } });\n",
      "new Chart(ctx, { type: 'line', data: {labels: ['2009-03-10', '2009-03-19', '2009-03-31', '2009-04-09', '2009-04-21', '2009-05-01', '2009-05-12', '2009-05-21', '2009-06-02', '2009-06-11'], datasets: [{label: 'Highest points of cash.us stock', data: [7.40, 9.34, 10.08, 8.30, 9.07, 12.12, 14.36, 13.24, 15.47, 17.85], borderWidth: 1}], options:{scales:{y:{beginAtZero: true} } } } });\n",
      "new Chart(ctx, { type: 'line', data: {labels: ['2009-06-22', '2009-07-01', '2009-07-16', '2009-07-28', '2009-08-06', '2009-08-17', '2009-08-26', '2009-09-08', '2009-09-17', '2009-10-01'], datasets: [{label: 'Highest points of cash.us stock', data: [19.09, 19.30, 17.30, 20.14, 21.47, 19.85, 20.19, 21.10, 21.59, 21.46], borderWidth: 1}], options:{scales:{y:{beginAtZero: true} } } } });\n",
      "new Chart(ctx, { type: 'line', data: {labels: ['2009-10-12', '2009-10-21', '2009-11-06', '2009-11-18', '2009-12-01', '2009-12-14', '2009-12-24', '2010-01-06', '2010-01-19', '2010-01-28'], datasets: [{label: 'Highest points of cash.us stock', data: [21.32, 20.25, 19.82, 20.23, 19.70, 20.07, 18.86, 19.75, 19.66, 17.59], borderWidth: 1}], options:{scales:{y:{beginAtZero: true} } } } });\n",
      "new Chart(ctx, { type: 'line', data: {labels: ['2010-02-08', '2010-02-18', '2010-03-01', '2010-03-10', '2010-03-19', '2010-03-30', '2010-04-09', '2010-04-20', '2010-04-30', '2010-05-11'], datasets: [{label: 'Highest points of cash.us stock', data: [17.24, 18.63, 19.08, 19.44, 21.01, 22.45, 26.62, 24.46, 25.16, 30.61], borderWidth: 1}], options:{scales:{y:{beginAtZero: true} } } } });\n",
      "new Chart(ctx, { type: 'line', data: {labels: ['2010-05-20', '2010-06-01', '2010-06-14', '2010-06-25', '2010-07-07', '2010-07-19', '2010-07-28', '2010-08-06', '2010-08-17', '2010-08-26'], datasets: [{label: 'Highest points of cash.us stock', data: [28.18, 26.20, 27.83, 28.06, 27.02, 27.51, 27.81, 30.98, 31.87, 32.32], borderWidth: 1}], options:{scales:{y:{beginAtZero: true} } } } });\n",
      "new Chart(ctx, { type: 'line', data: {labels: ['2010-09-07', '2010-09-16', '2010-09-28', '2010-10-08', '2010-10-19', '2010-10-28', '2010-11-08', '2010-11-17', '2010-11-29', '2010-12-08'], datasets: [{label: 'Highest points of cash.us stock', data: [31.22, 28.77, 28.73, 29.91, 13.60, 12.24, 12.69, 12.27, 11.73, 12.56], borderWidth: 1}], options:{scales:{y:{beginAtZero: true} } } } });\n",
      "new Chart(ctx, { type: 'line', data: {labels: ['2010-12-17', '2010-12-29', '2011-01-07', '2011-01-19', '2011-01-28', '2011-02-08', '2011-02-17', '2011-03-01', '2011-03-10', '2011-03-21'], datasets: [{label: 'Highest points of cash.us stock', data: [12.23, 12.21, 12.72, 13.87, 13.35, 14.51, 15.14, 16.85, 16.26, 15.24], borderWidth: 1}], options:{scales:{y:{beginAtZero: true} } } } });\n",
      "new Chart(ctx, { type: 'line', data: {labels: ['2011-03-30', '2011-04-08', '2011-04-19', '2011-04-29', '2011-05-10', '2011-05-19', '2011-06-01', '2011-06-13', '2011-06-22', '2011-07-01'], datasets: [{label: 'Highest points of cash.us stock', data: [14.64, 14.00, 13.29, 13.19, 13.81, 12.35, 13.59, 14.14, 13.08, 17.51], borderWidth: 1}], options:{scales:{y:{beginAtZero: true} } } } });\n"
     ]
    }
   ],
   "source": [
    "#Writing into a csv \n",
    "for i in range(0, len(resulting_strings)):\n",
    "    shablon = \"new Chart(ctx, {{ type: 'line', data: {{labels: [{dates}], datasets: [{{label: 'Highest points of {company} stock', data: [{high_values}], borderWidth: 1}}], options:{{scales:{{y:{{beginAtZero: true}} }} }} }} }});\"\n",
    "    formatted_shablon = shablon.format(dates=resulting_strings[i], high_values=resulting_float_strings[i], company=\"cash.us\")\n",
    "    formatted_shablon = formatted_shablon.replace(\"{{\", \"{\").replace(\"}}\", \"}\")\n",
    "    print(formatted_shablon)\n",
    "    with open('chartjs_formatted_linecharts.csv', 'a', newline='') as file:\n",
    "        writer = csv.writer(file)\n",
    "        writer.writerow([formatted_shablon])"
   ]
  },
  {
   "cell_type": "code",
   "execution_count": 187,
   "id": "900528ef",
   "metadata": {},
   "outputs": [],
   "source": [
    "# shablon = \"new Chart(ctx, {{ type: 'line', data: {{labels: [{dates}], datasets: [{{label: 'Highs of stocks over time', data: [{high_values}], borderWidth: 1}}], options:{{scales:{{y:{{beginAtZero: true}} }} }} }} }});\"\n",
    "# formatted_shablon = shablon.format(dates=dts, high_values=hghs)\n",
    "# print(formatted_shablon)"
   ]
  },
  {
   "cell_type": "code",
   "execution_count": 87,
   "id": "1c3b163c",
   "metadata": {},
   "outputs": [],
   "source": [
    "# #Making charts with 5 parameters\n",
    "# dts=''\n",
    "# hghs=''\n",
    "# for i in range(0, 5):\n",
    "#     if dts == '':\n",
    "#         dts += (\"'{dt}'\".format(dt=stock_change_weekly_dates[i]));\n",
    "#     elif dts != '':\n",
    "#         dts += (\", '{dt}'\".format(dt=stock_change_weekly_dates[i]));\n",
    "# print(dts)\n",
    "# for i in range(0, 5):\n",
    "#     if hghs == '':\n",
    "#         hghs += (\"{hg}\".format(hg=stock_change_weekly_highs[i]));\n",
    "#     elif hghs != '':\n",
    "#         hghs += (\", {hg}\".format(hg=stock_change_weekly_highs[i]));\n",
    "# print(hghs)"
   ]
  },
  {
   "cell_type": "code",
   "execution_count": 74,
   "id": "194f940c",
   "metadata": {},
   "outputs": [],
   "source": [
    "# #Chart with 5 high elements\n",
    "# # Assuming 'dates' is your list of 600 date strings\n",
    "# # Number of elements to include in each string\n",
    "# chunk_size = 5\n",
    "# # Creating the new list of concatenated date strings\n",
    "# resulting_float_strings = []\n",
    "# for i in range(0, len(stock_change_weekly_highs), chunk_size):\n",
    "#     # Join five floats to form one string, add it to the result list\n",
    "#     # Ensure not to exceed list bounds\n",
    "#     if i + chunk_size <= len(stock_change_weekly_highs):\n",
    "#         combined_string = ', '.join(format(f, '.2f') for f in stock_change_weekly_highs[i:i+chunk_size])\n",
    "#         resulting_float_strings.append(combined_string)\n",
    "# resulting_float_strings"
   ]
  },
  {
   "cell_type": "code",
   "execution_count": null,
   "id": "7108fc04",
   "metadata": {},
   "outputs": [],
   "source": [
    "#Chart with 5 dates\n",
    "# Assuming 'dates' is your list of 600 date strings\n",
    "# Number of elements to include in each string\n",
    "chunk_size = 5\n",
    "# Creating the new list of concatenated date strings\n",
    "resulting_strings = []\n",
    "for i in range(0, len(stock_change_weekly_dates), chunk_size):\n",
    "    # Join five dates to form one string, add it to the result list\n",
    "    # Ensure not to exceed list bounds\n",
    "    if i + chunk_size <= len(stock_change_weekly_dates):\n",
    "        combined_string = ', '.join(\"'\" + date + \"'\" for date in stock_change_weekly_dates[i:i+chunk_size])\n",
    "        resulting_strings.append(combined_string)\n",
    "# Now resulting_strings contains 25 elements if dates list has exactly 600 elements\n",
    "print(resulting_strings)\n",
    "resulting_float_strings = []\n",
    "for i in range(0, len(stock_change_weekly_highs), chunk_size):\n",
    "    # Join five floats to form one string, add it to the result list\n",
    "    # Ensure not to exceed list bounds\n",
    "    if i + chunk_size <= len(stock_change_weekly_highs):\n",
    "        combined_string = ', '.join(format(f, '.2f') for f in stock_change_weekly_highs[i:i+chunk_size])\n",
    "        resulting_float_strings.append(combined_string)\n",
    "print(resulting_float_strings)"
   ]
  }
 ],
 "metadata": {
  "kernelspec": {
   "display_name": "Python 3 (ipykernel)",
   "language": "python",
   "name": "python3"
  },
  "language_info": {
   "codemirror_mode": {
    "name": "ipython",
    "version": 3
   },
   "file_extension": ".py",
   "mimetype": "text/x-python",
   "name": "python",
   "nbconvert_exporter": "python",
   "pygments_lexer": "ipython3",
   "version": "3.11.1"
  }
 },
 "nbformat": 4,
 "nbformat_minor": 5
}
